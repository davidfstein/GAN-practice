{
 "cells": [
  {
   "cell_type": "code",
   "execution_count": 2,
   "id": "growing-balance",
   "metadata": {},
   "outputs": [],
   "source": [
    "import torch\n",
    "from tqdm import tqdm\n",
    "from torch import nn\n",
    "import torchvision\n",
    "import torchvision.transforms as transforms\n",
    "from torchvision.utils import make_grid, save_image\n",
    "from torch.utils.data import DataLoader\n",
    "from matplotlib import pyplot as plt"
   ]
  },
  {
   "cell_type": "code",
   "execution_count": 3,
   "id": "superb-counter",
   "metadata": {},
   "outputs": [],
   "source": [
    "train = torchvision.datasets.MNIST(\n",
    "    root=\"./\",\n",
    "    train=True,\n",
    "    download=True,\n",
    "    transform=transforms.Compose([\n",
    "                                transforms.ToTensor(),\n",
    "                                transforms.Normalize((0.5,),(0.5,)),\n",
    "]),\n",
    ")\n",
    "\n",
    "train_loader = DataLoader(train, batch_size=64, \n",
    "                          shuffle=True)"
   ]
  },
  {
   "cell_type": "code",
   "execution_count": 4,
   "id": "wired-example",
   "metadata": {},
   "outputs": [
    {
     "name": "stdout",
     "output_type": "stream",
     "text": [
      "torch.Size([1, 28, 28])\n"
     ]
    },
    {
     "data": {
      "image/png": "[encoded data removed]",
      "text/plain": [
       "<Figure size 576x576 with 9 Axes>"
      ]
     },
     "metadata": {
      "needs_background": "light"
     },
     "output_type": "display_data"
    }
   ],
   "source": [
    "print(train[0][0].shape)\n",
    "figure = plt.figure(figsize=(8, 8))\n",
    "rows, cols = 3, 3\n",
    "for i in range(1, cols * rows + 1):\n",
    "    sample_idx = torch.randint(len(train), size=(1,)).item()\n",
    "    img, label = train[sample_idx]\n",
    "    figure.add_subplot(rows, cols, i)\n",
    "    plt.title(label)\n",
    "    plt.axis(\"off\")\n",
    "    plt.imshow(img.squeeze(), cmap=\"gray\")\n",
    "plt.show()"
   ]
  },
  {
   "cell_type": "code",
   "execution_count": 5,
   "id": "creative-swedish",
   "metadata": {},
   "outputs": [],
   "source": [
    "class Generator(nn.Module):\n",
    "    \n",
    "    def __init__(self, input_shape):\n",
    "        super().__init__()\n",
    "        self.generator = nn.Sequential(\n",
    "            nn.Linear(input_shape, 256),\n",
    "            nn.LeakyReLU(0.2),\n",
    "            nn.Linear(256, 512),\n",
    "            nn.LeakyReLU(0.2),\n",
    "            nn.Linear(512, 1024),\n",
    "            nn.LeakyReLU(0.2),\n",
    "            nn.Linear(1024, 784),\n",
    "            nn.Sigmoid()\n",
    "        )\n",
    "        \n",
    "    def forward(self, x):\n",
    "        return self.generator(x).view(-1, 1, 28, 28)"
   ]
  },
  {
   "cell_type": "code",
   "execution_count": 6,
   "id": "digital-substitute",
   "metadata": {},
   "outputs": [],
   "source": [
    "class Discriminator(nn.Module):\n",
    "    def __init__(self, input_shape):\n",
    "        super().__init__()\n",
    "        self.discriminator = nn.Sequential(\n",
    "            nn.Linear(input_shape, 1024),\n",
    "            nn.LeakyReLU(0.2),\n",
    "            nn.Dropout(0.3),\n",
    "            nn.Linear(1024, 512),\n",
    "            nn.LeakyReLU(0.2),\n",
    "            nn.Dropout(0.3),\n",
    "            nn.Linear(512, 256),\n",
    "            nn.LeakyReLU(0.2),\n",
    "            nn.Dropout(0.3),\n",
    "            nn.Linear(256, 1),\n",
    "            nn.Sigmoid(),\n",
    "        )\n",
    "        \n",
    "    def forward(self, x):\n",
    "        x = x.view(-1, 784)\n",
    "        return self.discriminator(x)"
   ]
  },
  {
   "cell_type": "code",
   "execution_count": 7,
   "id": "disciplinary-management",
   "metadata": {},
   "outputs": [],
   "source": [
    "def label_real(size):\n",
    "    data = torch.ones(size, 1)\n",
    "    return data\n",
    "\n",
    "# to create fake labels (0s)\n",
    "def label_fake(size):\n",
    "    data = torch.zeros(size, 1)\n",
    "    return data\n",
    "\n",
    "def get_noise(batch_size, size):\n",
    "    return torch.randn(batch_size, size)\n",
    "\n",
    "def save_generator_image(image, path):\n",
    "    save_image(image, path)"
   ]
  },
  {
   "cell_type": "code",
   "execution_count": 8,
   "id": "tutorial-weather",
   "metadata": {},
   "outputs": [],
   "source": [
    "def train_discriminator(model, optimizer, criterion, \n",
    "                        data_real, data_fake):\n",
    "    batch_size = data_fake.size(0)\n",
    "    real_labels = label_real(batch_size)\n",
    "    fake_labels = label_fake(batch_size)\n",
    "    \n",
    "    optimizer.zero_grad()\n",
    "    \n",
    "    output_real = model(data_real)\n",
    "    loss_real = criterion(output_real, real_labels)\n",
    "    \n",
    "    output_fake = model(data_fake)\n",
    "    loss_fake = criterion(output_fake, fake_labels)\n",
    "    \n",
    "    loss_real.backward()\n",
    "    loss_fake.backward()\n",
    "    \n",
    "    optimizer.step()\n",
    "    \n",
    "    return loss_real + loss_fake"
   ]
  },
  {
   "cell_type": "code",
   "execution_count": 9,
   "id": "hydraulic-shepherd",
   "metadata": {},
   "outputs": [],
   "source": [
    "def train_generator(model, discriminator, optimizer, criterion, \n",
    "                        data_fake):\n",
    "    batch_size = data_real.size(0)\n",
    "    real_labels = label_real(batch_size)\n",
    "    \n",
    "    optimizer.zero_grad()\n",
    "    \n",
    "    output = discriminator(data_fake)\n",
    "    loss = criterion(output, real_labels)\n",
    "    \n",
    "    loss.backward()\n",
    "    \n",
    "    optimizer.step()\n",
    "    \n",
    "    return loss"
   ]
  },
  {
   "cell_type": "code",
   "execution_count": null,
   "id": "latest-export",
   "metadata": {},
   "outputs": [
    {
     "name": "stderr",
     "output_type": "stream",
     "text": [
      "938it [01:21, 11.56it/s]                         \n",
      "  0%|          | 2/937 [00:00<01:33, 10.04it/s]"
     ]
    },
    {
     "name": "stdout",
     "output_type": "stream",
     "text": [
      "Epoch 0 of 40\n",
      "Generator loss: 13.99250793, Discriminator loss: 0.00682970\n"
     ]
    },
    {
     "name": "stderr",
     "output_type": "stream",
     "text": [
      "938it [01:24, 11.14it/s]                         \n",
      "  0%|          | 2/937 [00:00<01:24, 11.07it/s]"
     ]
    },
    {
     "name": "stdout",
     "output_type": "stream",
     "text": [
      "Epoch 1 of 40\n",
      "Generator loss: 14.79564190, Discriminator loss: 0.00000073\n"
     ]
    },
    {
     "name": "stderr",
     "output_type": "stream",
     "text": [
      "938it [01:22, 11.33it/s]                         \n",
      "  0%|          | 2/937 [00:00<01:26, 10.75it/s]"
     ]
    },
    {
     "name": "stdout",
     "output_type": "stream",
     "text": [
      "Epoch 2 of 40\n",
      "Generator loss: 15.30580330, Discriminator loss: 0.00000045\n"
     ]
    },
    {
     "name": "stderr",
     "output_type": "stream",
     "text": [
      "938it [01:22, 11.34it/s]                         \n",
      "  0%|          | 1/937 [00:00<01:44,  8.98it/s]"
     ]
    },
    {
     "name": "stdout",
     "output_type": "stream",
     "text": [
      "Epoch 3 of 40\n",
      "Generator loss: 15.88470745, Discriminator loss: 0.00000027\n"
     ]
    },
    {
     "name": "stderr",
     "output_type": "stream",
     "text": [
      "938it [01:29, 10.51it/s]                         \n",
      "  0%|          | 1/937 [00:00<01:46,  8.79it/s]"
     ]
    },
    {
     "name": "stdout",
     "output_type": "stream",
     "text": [
      "Epoch 4 of 40\n",
      "Generator loss: 16.46187401, Discriminator loss: 0.00000015\n"
     ]
    },
    {
     "name": "stderr",
     "output_type": "stream",
     "text": [
      "938it [01:38,  9.52it/s]                         \n",
      "  0%|          | 1/937 [00:00<02:09,  7.22it/s]"
     ]
    },
    {
     "name": "stdout",
     "output_type": "stream",
     "text": [
      "Epoch 5 of 40\n",
      "Generator loss: 17.04143333, Discriminator loss: 0.00000009\n"
     ]
    },
    {
     "name": "stderr",
     "output_type": "stream",
     "text": [
      "938it [01:46,  8.81it/s]                         \n",
      "  0%|          | 1/937 [00:00<01:47,  8.72it/s]"
     ]
    },
    {
     "name": "stdout",
     "output_type": "stream",
     "text": [
      "Epoch 6 of 40\n",
      "Generator loss: 17.62129784, Discriminator loss: 0.00000005\n"
     ]
    },
    {
     "name": "stderr",
     "output_type": "stream",
     "text": [
      "938it [02:31,  6.21it/s]                         \n",
      "  0%|          | 1/937 [00:00<02:29,  6.25it/s]"
     ]
    },
    {
     "name": "stdout",
     "output_type": "stream",
     "text": [
      "Epoch 7 of 40\n",
      "Generator loss: 18.21729088, Discriminator loss: 0.00000003\n"
     ]
    },
    {
     "name": "stderr",
     "output_type": "stream",
     "text": [
      "938it [02:48,  5.57it/s]                         \n",
      "  0%|          | 1/937 [00:00<01:58,  7.90it/s]"
     ]
    },
    {
     "name": "stdout",
     "output_type": "stream",
     "text": [
      "Epoch 8 of 40\n",
      "Generator loss: 18.79138947, Discriminator loss: 0.00000001\n"
     ]
    },
    {
     "name": "stderr",
     "output_type": "stream",
     "text": [
      "938it [03:23,  4.61it/s]                         \n",
      "  0%|          | 1/937 [00:00<02:58,  5.23it/s]"
     ]
    },
    {
     "name": "stdout",
     "output_type": "stream",
     "text": [
      "Epoch 9 of 40\n",
      "Generator loss: 19.35354042, Discriminator loss: 0.00000001\n"
     ]
    },
    {
     "name": "stderr",
     "output_type": "stream",
     "text": [
      " 71%|███████   | 661/937 [09:26<4:08:06, 53.94s/it]"
     ]
    }
   ],
   "source": [
    "gen = Generator(128)\n",
    "dis = Discriminator(784)\n",
    "criterion = nn.BCELoss()\n",
    "gen_opt = torch.optim.Adam(gen.parameters())\n",
    "dis_opt = torch.optim.Adam(dis.parameters())\n",
    "\n",
    "batch_size = 64\n",
    "n_epochs = 40\n",
    "k = 1\n",
    "noise = get_noise(batch_size, 128)\n",
    "gen_losses = []\n",
    "dis_losses = []\n",
    "images = []\n",
    "\n",
    "for epoch in range(n_epochs):\n",
    "    gen_loss = 0\n",
    "    dis_loss = 0\n",
    "    total = int(len(train)/train_loader.batch_size)\n",
    "    for i, data in tqdm(enumerate(train_loader), total=total):\n",
    "        image, _ = data\n",
    "        \n",
    "        for step in range(k):\n",
    "            data_fake = gen(get_noise(len(image), 128)).detach()\n",
    "            data_real = image\n",
    "            dis_loss += train_discriminator(dis, dis_opt, criterion, \n",
    "                                            data_real, data_fake)\n",
    "            \n",
    "        data_fake = gen(get_noise(len(image), 128))\n",
    "        # train the generator network\n",
    "        gen_loss += train_generator(gen, dis, gen_opt, \n",
    "                                    criterion, data_fake)\n",
    "        \n",
    "    # create the final fake image for the epoch\n",
    "    generated_img = gen(noise).cpu().detach()\n",
    "    # make the images as grid\n",
    "    generated_img = make_grid(generated_img)\n",
    "    # save the generated torch tensor models to disk\n",
    "    save_generator_image(generated_img, f\"./outputs/gen_img{epoch}.png\")\n",
    "#     images.append(generated_img)\n",
    "    epoch_loss_g = gen_loss / i # total generator loss for the epoch\n",
    "    epoch_loss_d = dis_loss / i # total discriminator loss for the epoch\n",
    "    gen_losses.append(epoch_loss_g)\n",
    "    dis_losses.append(epoch_loss_d)\n",
    "    \n",
    "    print(f\"Epoch {epoch} of {40}\")\n",
    "    print(f\"Generator loss: {epoch_loss_g:.8f}, Discriminator loss: {epoch_loss_d:.8f}\")\n",
    "    del generated_img"
   ]
  },
  {
   "cell_type": "code",
   "execution_count": 13,
   "id": "dietary-princeton",
   "metadata": {},
   "outputs": [],
   "source": [
    "import numpy as np\n",
    "import imageio\n",
    "to_pil_image = torchvision.transforms.ToPILImage()\n",
    "imgs = [np.array(to_pil_image(img)) for img in images]\n",
    "imageio.mimsave('./outputs/generator_images.gif', imgs)"
   ]
  },
  {
   "cell_type": "code",
   "execution_count": null,
   "id": "composite-island",
   "metadata": {},
   "outputs": [],
   "source": []
  }
 ],
 "metadata": {
  "kernelspec": {
   "display_name": "Python 3",
   "language": "python",
   "name": "python3"
  },
  "language_info": {
   "codemirror_mode": {
    "name": "ipython",
    "version": 3
   },
   "file_extension": ".py",
   "mimetype": "text/x-python",
   "name": "python",
   "nbconvert_exporter": "python",
   "pygments_lexer": "ipython3",
   "version": "3.9.2"
  }
 },
 "nbformat": 4,
 "nbformat_minor": 5
}
